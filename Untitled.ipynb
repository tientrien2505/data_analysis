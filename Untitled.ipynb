{
 "cells": [
  {
   "cell_type": "code",
   "execution_count": 28,
   "id": "physical-george",
   "metadata": {},
   "outputs": [],
   "source": [
    "import requests"
   ]
  },
  {
   "cell_type": "code",
   "execution_count": 29,
   "id": "funded-assumption",
   "metadata": {},
   "outputs": [],
   "source": [
    "url = 'https://vietnamtourism.gov.vn/index.php/statistic/international'\n",
    "params = {\n",
    "    \"year\": \"2019\",\n",
    "    \"period\": \"t3\"\n",
    "}"
   ]
  },
  {
   "cell_type": "code",
   "execution_count": 35,
   "id": "underlying-irrigation",
   "metadata": {},
   "outputs": [
    {
     "name": "stdout",
     "output_type": "stream",
     "text": [
      "year 2008, month 1\n",
      "year 2008, month 2\n",
      "year 2008, month 3\n",
      "year 2008, month 4\n",
      "year 2008, month 5\n",
      "year 2008, month 6\n",
      "year 2008, month 7\n",
      "year 2008, month 8\n",
      "year 2008, month 9\n",
      "year 2008, month 10\n",
      "year 2008, month 11\n",
      "year 2008, month 12\n",
      "year 2009, month 1\n",
      "year 2009, month 2\n",
      "year 2009, month 3\n",
      "year 2009, month 4\n",
      "year 2009, month 5\n",
      "year 2009, month 6\n",
      "year 2009, month 7\n",
      "year 2009, month 8\n",
      "year 2009, month 9\n",
      "year 2009, month 10\n",
      "year 2009, month 11\n",
      "year 2009, month 12\n",
      "year 2010, month 1\n",
      "year 2010, month 2\n",
      "year 2010, month 3\n",
      "year 2010, month 4\n",
      "year 2010, month 5\n",
      "year 2010, month 6\n",
      "year 2010, month 7\n",
      "year 2010, month 8\n",
      "year 2010, month 9\n",
      "year 2010, month 10\n",
      "year 2010, month 11\n",
      "year 2010, month 12\n",
      "year 2011, month 1\n",
      "year 2011, month 2\n",
      "year 2011, month 3\n",
      "year 2011, month 4\n",
      "year 2011, month 5\n",
      "year 2011, month 6\n",
      "year 2011, month 7\n",
      "year 2011, month 8\n",
      "year 2011, month 9\n",
      "year 2011, month 10\n",
      "year 2011, month 11\n",
      "year 2011, month 12\n",
      "year 2012, month 1\n",
      "year 2012, month 2\n",
      "year 2012, month 3\n",
      "year 2012, month 4\n",
      "year 2012, month 5\n",
      "year 2012, month 6\n",
      "year 2012, month 7\n",
      "year 2012, month 8\n",
      "year 2012, month 9\n",
      "year 2012, month 10\n",
      "year 2012, month 11\n",
      "year 2012, month 12\n",
      "year 2013, month 1\n",
      "year 2013, month 2\n",
      "year 2013, month 3\n",
      "year 2013, month 4\n",
      "year 2013, month 5\n",
      "year 2013, month 6\n",
      "year 2013, month 7\n",
      "year 2013, month 8\n",
      "year 2013, month 9\n",
      "year 2013, month 10\n",
      "year 2013, month 11\n",
      "year 2013, month 12\n",
      "year 2014, month 1\n",
      "year 2014, month 2\n",
      "year 2014, month 3\n",
      "year 2014, month 4\n",
      "year 2014, month 5\n",
      "year 2014, month 6\n",
      "year 2014, month 7\n",
      "year 2014, month 8\n",
      "year 2014, month 9\n",
      "year 2014, month 10\n",
      "year 2014, month 11\n",
      "year 2014, month 12\n",
      "year 2015, month 1\n",
      "year 2015, month 2\n",
      "year 2015, month 3\n",
      "year 2015, month 4\n",
      "year 2015, month 5\n",
      "year 2015, month 6\n",
      "year 2015, month 7\n",
      "year 2015, month 8\n",
      "year 2015, month 9\n",
      "year 2015, month 10\n",
      "year 2015, month 11\n",
      "year 2015, month 12\n",
      "year 2016, month 1\n",
      "year 2016, month 2\n",
      "year 2016, month 3\n",
      "year 2016, month 4\n",
      "year 2016, month 5\n",
      "year 2016, month 6\n",
      "year 2016, month 7\n",
      "year 2016, month 8\n",
      "year 2016, month 9\n",
      "year 2016, month 10\n",
      "year 2016, month 11\n",
      "year 2016, month 12\n",
      "year 2017, month 1\n",
      "year 2017, month 2\n",
      "year 2017, month 3\n",
      "year 2017, month 4\n",
      "year 2017, month 5\n",
      "year 2017, month 6\n",
      "year 2017, month 7\n",
      "year 2017, month 8\n",
      "year 2017, month 9\n",
      "year 2017, month 10\n",
      "year 2017, month 11\n",
      "year 2017, month 12\n",
      "year 2018, month 1\n",
      "year 2018, month 2\n",
      "year 2018, month 3\n",
      "year 2018, month 4\n",
      "year 2018, month 5\n",
      "year 2018, month 6\n",
      "year 2018, month 7\n",
      "year 2018, month 8\n",
      "year 2018, month 9\n",
      "year 2018, month 10\n",
      "year 2018, month 11\n",
      "year 2018, month 12\n",
      "year 2019, month 1\n",
      "year 2019, month 2\n",
      "year 2019, month 3\n",
      "year 2019, month 4\n",
      "year 2019, month 5\n",
      "year 2019, month 6\n",
      "year 2019, month 7\n",
      "year 2019, month 8\n",
      "year 2019, month 9\n",
      "year 2019, month 10\n",
      "year 2019, month 11\n",
      "year 2019, month 12\n",
      "year 2020, month 1\n",
      "year 2020, month 2\n",
      "year 2020, month 3\n",
      "year 2020, month 4\n",
      "year 2020, month 5\n",
      "year 2020, month 6\n",
      "year 2020, month 7\n",
      "year 2020, month 8\n",
      "year 2020, month 9\n",
      "year 2020, month 10\n",
      "year 2020, month 11\n",
      "year 2020, month 12\n"
     ]
    }
   ],
   "source": [
    "years = range(2008, 2021)\n",
    "months = range(1, 13)\n",
    "for year in years:\n",
    "    for month in months:\n",
    "        params[\"year\"] = str(year)\n",
    "        params[\"period\"] = 't' + str(month)\n",
    "        try:\n",
    "            print('year ' + str(year) + ', month ' + str(month))\n",
    "            res = requests.get(url, params=params)\n",
    "            with open(str(year) + '_' + str(month) + '.html', 'w') as file:\n",
    "                file.write(res.text)\n",
    "        except:\n",
    "            print('error in year ' + str(year) + ', month ' + str(month))\n"
   ]
  },
  {
   "cell_type": "code",
   "execution_count": 36,
   "id": "enhanced-receipt",
   "metadata": {},
   "outputs": [],
   "source": [
    "from bs4 import BeautifulSoup"
   ]
  },
  {
   "cell_type": "code",
   "execution_count": 38,
   "id": "infinite-split",
   "metadata": {},
   "outputs": [],
   "source": [
    "year = 2008\n",
    "month = 1"
   ]
  },
  {
   "cell_type": "code",
   "execution_count": 39,
   "id": "civic-election",
   "metadata": {},
   "outputs": [],
   "source": [
    "with open(str(year) + '_' + str(month) + '.html', 'r') as file:\n",
    "    text = file.read()"
   ]
  },
  {
   "cell_type": "code",
   "execution_count": 43,
   "id": "configured-incident",
   "metadata": {},
   "outputs": [],
   "source": [
    "soup = BeautifulSoup(text, 'html.parser')"
   ]
  },
  {
   "cell_type": "code",
   "execution_count": 58,
   "id": "difficult-treaty",
   "metadata": {},
   "outputs": [],
   "source": [
    "table = soup.table"
   ]
  },
  {
   "cell_type": "code",
   "execution_count": 67,
   "id": "respiratory-local",
   "metadata": {},
   "outputs": [
    {
     "data": {
      "text/plain": [
       "'Tổng số'"
      ]
     },
     "execution_count": 67,
     "metadata": {},
     "output_type": "execute_result"
    }
   ],
   "source": [
    "table.tbody.tr.find_all('td')[0].text"
   ]
  },
  {
   "cell_type": "code",
   "execution_count": 78,
   "id": "blank-destiny",
   "metadata": {},
   "outputs": [
    {
     "name": "stdout",
     "output_type": "stream",
     "text": [
      "Tổng số, 304419, 2784578, 96.7, 106.3, 84.5\n",
      "\n",
      "Phân theo phương tiện\n",
      "\n",
      "1 Đường không, 221675, 2255523, 85.9, 92.4, 287.8\n",
      "\n",
      "2 Đường biển, 2097, 55524, 41.9, 26.3, 188.9\n",
      "\n",
      "3 Đường bộ, 80647, 473531, 155.1, 120.1, 276.9\n",
      "\n",
      "Phân theo thị trường\n",
      "\n",
      "1 Châu Á, 163391, 1412204, 105.4, 79.4, 357.5\n",
      "\n",
      "Thái Lan, 10073, 117553, 95.1, 68.0, 464.4\n",
      "\n",
      "Malaysia, 12947, 123653, 108.7, 96.4, 457.6\n",
      "\n",
      "Hàn Quốc, 25389, 291414, 69.8, 79.8, 453.6\n",
      "\n",
      "Trung Quốc, 55791, 381361, 141.5, 122.1, 424.3\n",
      "\n",
      "Nhật Bản, 38807, 270046, 124.9, 96.5, 400.8\n",
      "\n",
      "Đài Loan, 20384, 209882, 79.5, 87.3, 394.4\n",
      "\n",
      "2 Châu Mỹ, 27837, 352707, 72.5, 86.5, 436.3\n",
      "\n",
      "Hoa Kỳ, 23599, 300368, 73.3, 86.7, 448.1\n",
      "\n",
      "Canada*, 4238, 52339, 68.5, 85.4, 378.7\n",
      "\n",
      "3 Châu Âu, 9929, 137020, 57.3, 24.5, 151.3\n",
      "\n",
      "Pháp, 9929, 137020, 57.3, 83.9, 538.5\n",
      "\n",
      "4 Châu Úc, 16877, 150441, 120.9, 82.4, 333.9\n",
      "\n",
      "Úc, 16877, 150441, 120.9, 90.5, 365.2\n",
      "\n",
      "5 Phân theo thị trường, 86385, 732208, 95.8, 539.7, 2183.7\n",
      "\n",
      "Các thị trường khác, 86385, 732208, 95.8, 539.7, 2183.7\n",
      "\n"
     ]
    }
   ],
   "source": [
    "for year in range(2008, 2021):\n",
    "    for month in range(1, 13):\n",
    "        with open(str(year) + '_' + str(month) + '.csv', 'w') as f:\n",
    "            with open(str(year) + '_' + str(month) + '.html', 'r') as file:\n",
    "                text = file.read()\n",
    "                soup = BeautifulSoup(text, 'html.parser')\n",
    "                table = soup.table\n",
    "                tbody = table.tbody\n",
    "                trs = tbody.find_all('tr')\n",
    "                for tr in trs:\n",
    "                    tds = tr.find_all('td')\n",
    "                    data = ''\n",
    "                    for td in tds:\n",
    "                        tmp = td.text\n",
    "                        tmp = tmp.replace('.', '')                        \n",
    "                        if tmp.count(',') == 1:\n",
    "                            tmp = tmp.replace(',', '.')\n",
    "                            try:\n",
    "                                tmp1 = float(tmp)\n",
    "                            except:\n",
    "                                tmp = tmp.replace('.', ',')\n",
    "                        data += (tmp + ', ')\n",
    "                    data = data[:-2] + '\\n'\n",
    "                    f.write(data)\n",
    "                    if year == 2009 and month == 9:\n",
    "                            print(data)\n"
   ]
  },
  {
   "cell_type": "code",
   "execution_count": 92,
   "id": "shared-honey",
   "metadata": {},
   "outputs": [
    {
     "name": "stdout",
     "output_type": "stream",
     "text": [
      "20204abc\n",
      "20205abc\n",
      "20206abc\n",
      "20207abc\n",
      "20208abc\n",
      "20209abc\n",
      "202010abc\n",
      "202011abc\n",
      "202012abc\n"
     ]
    }
   ],
   "source": [
    "with open('data.csv', 'w') as f:\n",
    "    for year in range(2008, 2021):\n",
    "        d = 0\n",
    "        for month in range(1, 13):\n",
    "            with open(str(year) + '_' + str(month) + '.html', 'r') as file:\n",
    "                text = file.read()\n",
    "                soup = BeautifulSoup(text, 'html.parser')\n",
    "                table = soup.table\n",
    "                tbody = table.tbody\n",
    "                tr = tbody.tr\n",
    "                tds = tr.find_all('td')\n",
    "                data = str(month) + '_' + str(year) + ', '\n",
    "                td = tds[2]\n",
    "                tmp = td.text\n",
    "                tmp = tmp.replace('.', '')                        \n",
    "                tmp = tmp.replace(',', '.')\n",
    "                try:\n",
    "                    tmp1 = float(tmp)\n",
    "                    tmp = str(tmp1 - d)\n",
    "                    d = tmp1\n",
    "                    data += (tmp + '\\n')\n",
    "                    f.write(data)\n",
    "                except:\n",
    "                    print(str(year) + str(month) + 'abc')\n",
    "                    tmp = tmp.replace('.', ',')\n",
    "                \n",
    "                \n"
   ]
  },
  {
   "cell_type": "code",
   "execution_count": 129,
   "id": "unknown-immigration",
   "metadata": {},
   "outputs": [],
   "source": [
    "df = pd.read_csv('data.csv', names=['tháng năm', 'số lượt khách nước ngoài'])"
   ]
  },
  {
   "cell_type": "code",
   "execution_count": 130,
   "id": "progressive-broad",
   "metadata": {},
   "outputs": [
    {
     "data": {
      "text/plain": [
       "<AxesSubplot:>"
      ]
     },
     "execution_count": 130,
     "metadata": {},
     "output_type": "execute_result"
    },
    {
     "data": {
      "image/png": "[encoded data removed]",
      "text/plain": [
       "<Figure size 432x288 with 1 Axes>"
      ]
     },
     "metadata": {
      "needs_background": "light"
     },
     "output_type": "display_data"
    }
   ],
   "source": [
    "df.plot()"
   ]
  },
  {
   "cell_type": "code",
   "execution_count": 146,
   "id": "everyday-alpha",
   "metadata": {},
   "outputs": [
    {
     "data": {
      "text/plain": [
       "[Text(0, 0, '2008'),\n",
       " Text(12, 0, '2009'),\n",
       " Text(24, 0, '2010'),\n",
       " Text(36, 0, '2011'),\n",
       " Text(48, 0, '2012'),\n",
       " Text(60, 0, '2013'),\n",
       " Text(72, 0, '2014'),\n",
       " Text(84, 0, '2015'),\n",
       " Text(96, 0, '2016'),\n",
       " Text(108, 0, '2017'),\n",
       " Text(120, 0, '2018'),\n",
       " Text(132, 0, '2019'),\n",
       " Text(144, 0, '2020')]"
      ]
     },
     "execution_count": 146,
     "metadata": {},
     "output_type": "execute_result"
    },
    {
     "data": {
      "image/png": "[encoded data removed]",
      "text/plain": [
       "<Figure size 1440x720 with 1 Axes>"
      ]
     },
     "metadata": {
      "needs_background": "light"
     },
     "output_type": "display_data"
    }
   ],
   "source": [
    "ax = df.plot.line(figsize=(20,10), grid=True, xticks=range(0, 147, 12), title=\"Biểu đồ lượt khách nước ngoài vào Việt Nam\", \n",
    "            legend=True, xlabel='thời gian', ylabel='Số lượt khách')\n",
    "ax.set_xticklabels(range(2008, 2021))"
   ]
  },
  {
   "cell_type": "code",
   "execution_count": 140,
   "id": "progressive-details",
   "metadata": {},
   "outputs": [
    {
     "data": {
      "text/plain": [
       "147"
      ]
     },
     "execution_count": 140,
     "metadata": {},
     "output_type": "execute_result"
    }
   ],
   "source": [
    "len(df['tháng năm'])"
   ]
  },
  {
   "cell_type": "code",
   "execution_count": 141,
   "id": "domestic-yield",
   "metadata": {},
   "outputs": [
    {
     "data": {
      "text/plain": [
       "147"
      ]
     },
     "execution_count": 141,
     "metadata": {},
     "output_type": "execute_result"
    }
   ],
   "source": [
    "(2020-2008+1)*12-9"
   ]
  },
  {
   "cell_type": "code",
   "execution_count": null,
   "id": "earlier-rebate",
   "metadata": {},
   "outputs": [],
   "source": []
  }
 ],
 "metadata": {
  "kernelspec": {
   "display_name": "Python 3",
   "language": "python",
   "name": "python3"
  },
  "language_info": {
   "codemirror_mode": {
    "name": "ipython",
    "version": 3
   },
   "file_extension": ".py",
   "mimetype": "text/x-python",
   "name": "python",
   "nbconvert_exporter": "python",
   "pygments_lexer": "ipython3",
   "version": "3.6.12"
  }
 },
 "nbformat": 4,
 "nbformat_minor": 5
}
